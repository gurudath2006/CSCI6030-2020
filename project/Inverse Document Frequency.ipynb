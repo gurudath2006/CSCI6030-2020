{
 "cells": [
  {
   "cell_type": "markdown",
   "metadata": {},
   "source": [
    "Reading and printing documents"
   ]
  },
  {
   "cell_type": "code",
   "execution_count": 54,
   "metadata": {},
   "outputs": [
    {
     "name": "stdout",
     "output_type": "stream",
     "text": [
      "\n",
      " Printing  ../datasets/IDF Texts\\Doc1.txt\n",
      "\n",
      "  Emma Woodhouse, handsome, clever, and rich, with a comfortable home\n",
      "and happy disposition, seemed to unite some of the best blessings\n",
      "of existence; and had lived nearly twenty-one years in the world\n",
      "with very little to distress or vex her.\n",
      "\n",
      " Printing  ../datasets/IDF Texts\\Doc2.txt\n",
      "\n",
      "  She was the youngest of the two daughters of a most affectionate,\n",
      "indulgent father; and had, in consequence of her sister's marriage,\n",
      "been mistress of his house from a very early period.  Her mother\n",
      "had died too long ago for her to have more than an indistinct\n",
      "remembrance of her caresses; and her place had been supplied\n",
      "by an excellent woman as governess, who had fallen little short\n",
      "of a mother in affection.\n",
      "\n",
      " Printing  ../datasets/IDF Texts\\Doc3.txt\n",
      "\n",
      "  Sixteen years had Miss Taylor been in Mr. Woodhouse's family,\n",
      "less as a governess than a friend, very fond of both daughters,\n",
      "but particularly of Emma.  Between _them_ it was more the intimacy\n",
      "of sisters.  Even before Miss Taylor had ceased to hold the nominal\n",
      "office of governess, the mildness of her temper had hardly allowed\n",
      "her to impose any restraint; and the shadow of authority being\n",
      "now long passed away, they had been living together as friend and\n",
      "friend very mutually attached, and Emma doing just what she liked;\n",
      "highly esteeming Miss Taylor's judgment, but directed chiefly by\n",
      "her own.\n"
     ]
    }
   ],
   "source": [
    "import glob\n",
    "import math\n",
    "import string\n",
    "line=''\n",
    "s=set()\n",
    "filelist=glob.glob(r'../datasets/IDF Texts/*.txt') #get all the files from the d`#open each file >> tokenize the content >> and store it in a set\n",
    "for fname in filelist:         \n",
    "    tfile=open(fname,\"r\")\n",
    "    line=tfile.read() # read the content of file and store in \"line\"\n",
    "    tfile.close() # close the file\n",
    "    print(\"\\n Printing \", fname)\n",
    "    print(\"\\n \", line)\n",
    "    clearline = \"\".join([c for c in line if c not in string.punctuation])\n",
    "    s=s.union(set(clearline.split(' '))) # union of common words"
   ]
  },
  {
   "cell_type": "markdown",
   "metadata": {},
   "source": [
    "Calculating Inverted Document Frequency using the formula Log(N/dft) and printing"
   ]
  },
  {
   "cell_type": "code",
   "execution_count": 55,
   "metadata": {},
   "outputs": [
    {
     "name": "stdout",
     "output_type": "stream",
     "text": [
      "\n",
      " Printing inverted document frequency of each term \n",
      ": \n",
      " : IDF=0.0; She: IDF=1.1; nearly: IDF=1.1; lived: IDF=1.1; affection: IDF=1.1; from: IDF=1.1; hold: IDF=1.1; friend: IDF=1.1; comfortable: IDF=1.1; to: IDF=0.0; Miss: IDF=1.1; intimacy\n",
      "of: IDF=1.1; marriage\n",
      "been: IDF=1.1; home\n",
      "and: IDF=1.1; youngest: IDF=1.1; away: IDF=1.1; very: IDF=0.0; Mr: IDF=1.1; of: IDF=0.0; affectionate\n",
      "indulgent: IDF=1.1; rich: IDF=1.1; more: IDF=0.41; sisters: IDF=0.41; who: IDF=1.1; long: IDF=0.41; shadow: IDF=1.1; what: IDF=1.1; temper: IDF=1.1; Even: IDF=1.1; any: IDF=1.1; mother\n",
      "had: IDF=1.1; ago: IDF=1.1; being\n",
      "now: IDF=1.1; two: IDF=1.1; chiefly: IDF=1.1; impose: IDF=1.1; handsome: IDF=1.1; happy: IDF=1.1; unite: IDF=1.1; the: IDF=0.0; fallen: IDF=1.1; they: IDF=1.1; Sixteen: IDF=1.1; authority: IDF=1.1; Emma: IDF=0.41; years: IDF=0.41; disposition: IDF=1.1; caresses: IDF=1.1; supplied\n",
      "by: IDF=1.1; she: IDF=1.1; period: IDF=1.1; world\n",
      "with: IDF=1.1; mutually: IDF=1.1; as: IDF=0.41; it: IDF=0.0; family\n",
      "less: IDF=1.1; doing: IDF=1.1; twentyone: IDF=1.1; short\n",
      "of: IDF=1.1; together: IDF=1.1; best: IDF=1.1; woman: IDF=1.1; just: IDF=1.1; or: IDF=0.0; distress: IDF=1.1; Between: IDF=1.1; by\n",
      "her: IDF=1.1; liked\n",
      "highly: IDF=1.1; esteeming: IDF=1.1; but: IDF=1.1; Woodhouse: IDF=0.41; Taylors: IDF=1.1; fond: IDF=1.1; before: IDF=1.1; and\n",
      "friend: IDF=1.1; indistinct\n",
      "remembrance: IDF=1.1; Her: IDF=1.1; and: IDF=0.0; mildness: IDF=1.1; allowed\n",
      "her: IDF=1.1; blessings\n",
      "of: IDF=1.1; most: IDF=1.1; existence: IDF=1.1; have: IDF=1.1; his: IDF=1.1; clever: IDF=1.1; Taylor: IDF=1.1; for: IDF=0.0; mother: IDF=1.1; particularly: IDF=1.1; little: IDF=0.41; daughters\n",
      "but: IDF=1.1; than: IDF=0.41; seemed: IDF=1.1; directed: IDF=1.1; was: IDF=0.41; excellent: IDF=1.1; too: IDF=1.1; governess: IDF=0.41; own: IDF=1.1; both: IDF=1.1; hardly: IDF=1.1; in: IDF=0.0; restraint: IDF=1.1; Woodhouses: IDF=1.1; nominal\n",
      "office: IDF=1.1; consequence: IDF=1.1; living: IDF=1.1; father: IDF=1.1; with: IDF=1.1; had: IDF=0.0; place: IDF=1.1; been: IDF=0.41; some: IDF=1.1; mistress: IDF=1.1; judgment: IDF=1.1; house: IDF=0.0; vex: IDF=1.1; an: IDF=0.0; passed: IDF=1.1; daughters: IDF=0.41; them: IDF=1.1; attached: IDF=1.1; died: IDF=1.1; her: IDF=0.0; a: IDF=0.0; early: IDF=0.41; ceased: IDF=1.1; \n"
     ]
    }
   ],
   "source": [
    "i=0\n",
    "ct=0\n",
    "tf_line=''          \n",
    "doc_counts=[]       \n",
    "for term in s: #takes each term in the set \n",
    "    doc_counts.append(0)\n",
    "    \n",
    "    for fdoc in filelist: # counts the no of times \"term\" is encountered in each doc\n",
    "        \n",
    "        doc=open(fdoc)\n",
    "        line=doc.read()\n",
    "        doc.close()\n",
    "        clearline = \"\".join([c for c in line if c not in string.punctuation])\n",
    "        ct=clearline.count(str(term)) #counts the no. of times \"term\" is present in the file\n",
    "        if (ct>0):              #counts no of docs in which \n",
    "            doc_counts[i]+=1    #this \"term\" is found\n",
    "    i+=1\n",
    "    \n",
    "idf=[]  #inverse document frequency      \n",
    "\n",
    "total_docs=len(filelist)   #total number of documents\n",
    "\n",
    "i=0\n",
    "\n",
    "for doc_count in doc_counts:    #takes the 1st doc count\n",
    "    idf.append(math.log(total_docs/doc_count)) #calculates idf for each \"term\"\n",
    "    i+=1\n",
    "\n",
    "print(\"\\n Printing inverted document frequency of each term \\n: \")\n",
    "i=0\n",
    "fullline = ''\n",
    "for term in s:\n",
    "    fullline += term+': IDF='+str(round(idf[i],2))+'; '\n",
    "    i+=1\n",
    "print(\"\",fullline)\n"
   ]
  },
  {
   "cell_type": "code",
   "execution_count": null,
   "metadata": {},
   "outputs": [],
   "source": []
  },
  {
   "cell_type": "code",
   "execution_count": null,
   "metadata": {},
   "outputs": [],
   "source": []
  }
 ],
 "metadata": {
  "kernelspec": {
   "display_name": "Python 3",
   "language": "python",
   "name": "python3"
  },
  "language_info": {
   "codemirror_mode": {
    "name": "ipython",
    "version": 3
   },
   "file_extension": ".py",
   "mimetype": "text/x-python",
   "name": "python",
   "nbconvert_exporter": "python",
   "pygments_lexer": "ipython3",
   "version": "3.7.4"
  }
 },
 "nbformat": 4,
 "nbformat_minor": 2
}
