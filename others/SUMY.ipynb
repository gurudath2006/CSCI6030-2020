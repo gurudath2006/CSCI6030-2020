{
 "cells": [
  {
   "cell_type": "code",
   "execution_count": 9,
   "metadata": {},
   "outputs": [
    {
     "name": "stdout",
     "output_type": "stream",
     "text": [
      "Requirement already satisfied: sumy in c:\\programdata\\anaconda3\\lib\\site-packages (0.8.1)\n",
      "Requirement already satisfied: nltk>=3.0.2 in c:\\programdata\\anaconda3\\lib\\site-packages (from sumy) (3.4.5)\n",
      "Requirement already satisfied: docopt<0.7,>=0.6.1 in c:\\programdata\\anaconda3\\lib\\site-packages (from sumy) (0.6.2)\n",
      "Requirement already satisfied: breadability>=0.1.20 in c:\\programdata\\anaconda3\\lib\\site-packages (from sumy) (0.1.20)\n",
      "Requirement already satisfied: pycountry>=18.2.23 in c:\\programdata\\anaconda3\\lib\\site-packages (from sumy) (19.8.18)\n",
      "Requirement already satisfied: requests>=2.7.0 in c:\\programdata\\anaconda3\\lib\\site-packages (from sumy) (2.22.0)\n",
      "Requirement already satisfied: six in c:\\programdata\\anaconda3\\lib\\site-packages (from nltk>=3.0.2->sumy) (1.12.0)\n",
      "Requirement already satisfied: chardet in c:\\programdata\\anaconda3\\lib\\site-packages (from breadability>=0.1.20->sumy) (3.0.4)\n",
      "Requirement already satisfied: lxml>=2.0 in c:\\programdata\\anaconda3\\lib\\site-packages (from breadability>=0.1.20->sumy) (4.4.1)\n",
      "Requirement already satisfied: idna<2.9,>=2.5 in c:\\programdata\\anaconda3\\lib\\site-packages (from requests>=2.7.0->sumy) (2.8)\n",
      "Requirement already satisfied: urllib3!=1.25.0,!=1.25.1,<1.26,>=1.21.1 in c:\\programdata\\anaconda3\\lib\\site-packages (from requests>=2.7.0->sumy) (1.24.2)\n",
      "Requirement already satisfied: certifi>=2017.4.17 in c:\\programdata\\anaconda3\\lib\\site-packages (from requests>=2.7.0->sumy) (2019.9.11)\n",
      "Note: you may need to restart the kernel to use updated packages.\n"
     ]
    }
   ],
   "source": [
    "pip install sumy"
   ]
  },
  {
   "cell_type": "code",
   "execution_count": 10,
   "metadata": {},
   "outputs": [
    {
     "name": "stdout",
     "output_type": "stream",
     "text": [
      "********************* INPUT **********************\n",
      "URL: https://www.cnn.com/studentnews/article/sitemap-2020-4.html\n",
      "Date: 2020-04-26\n",
      "No. of Articles: 2\n",
      "Keywords: coronavirus\n",
      "********************* Extracted OUTPUT Content **********************\n",
      "1\n",
      "2\n",
      "\"This is the biggest negative shock that our economy, I think, has ever seen. We're going to be looking at an unemployment rate that approaches rates that we saw during the Great Depression,\" Hassett told ABC's \"This Week.\" \"During the Great Recession, remember that was a financial crisis around 2008, that we lost 8.7 million jobs and the whole thing. Right now, we're losing that many jobs about every 10 days.\"While some private economists have projected unemployment at that level, it is striking that such a prediction is coming from a key White House economic adviser.For the fifth week in a row, millions of American workers applied for unemployment benefits, seeking financial relief as businesses remained shuttered due to coronavirus.First-time claims for unemployment benefits totaled 4.4 million in the week ending April 18, after factoring in seasonal adjustments, the US Department of Labor said.Without those adjustments -- which economists use to account for seasonal hiring fluctuations -- the raw number was 4.3 million.Hassett painted a dire economic picture for the coming months as a result of Covid-19's impact on the nation's businesses, predicting a negative upcoming report on the country's economic output.\"I think GDP (Gross Domestic Product) growth in the second quarter is going to be negative big number. Wall Street estimates are 20, negative 20, negative 30% at an annual rate. And so that's because we've done something that's really unprecedented, we basically stopped everything,\" Hassett told reporters.On Wednesday, the Commerce Department will release the nation's first quarter GDP which will show the initial economic downturn due to the coronavirus. Those figures will show the start of the economic slide, but the major impact will be seen in the numbers reflecting the second quarter GDP, which will be released in July.Treasury Secretary Steven Mnuchin, meanwhile, painted a more positive outlook. He told reporters Sunday that he believes the economy will begin to bounce back in mid-to-late summer because of the economic activity that he hopes will occur in May and June, as some states begin to reopen.\"This is an unprecedented situation. This is not a financial crisis, this is -- we shut down,\" Mnuchin told reporters at the White House. \"The traditional economic models may work.  They may not work.\"\"What I do think is, as we open up the economy in May and June, you will begin to see the economy bounce back in July, August, September,\" he also said. \"And my expectation is that you'll see an increasing rate of growth in those three months.\"They seasoned pound after pound of chicken and thin-cut steak, warmed up dozens of tortillas, and stirred a few liters of salsa in their Bloomington, California, home. It's not anybody's birthday or wedding or a holiday. This is how they are making money to survive a pandemic. Jewelers by trade, they should be polishing gems. Instead they are polishing off meals to go. \"It happened so quickly that one day we were business owners and the next day we were unemployed,\" Luis Ramirez, 49, told CNN.The Ramirez family shut their two Southern California jewelry stores last month when most Americans began staying home and non-essential businesses were ordered to close as the novel coronavirus spread through the United States.Hundreds of thousands of people like the Ramirez family have become gig workers or joined the informal sector after unexpectedly losing their jobs or being forced to close their small businesses. And the job losses are hitting people of color, women and teens particularly hard. After selling and repairing bracelets, necklaces and rings for nearly three decades, Maria Ramirez, 51, is starting from scratch with the help of her five children, some of whom have temporarily returned home from college. They are selling Mexican and Peruvian food for $10 a plate and making as many deliveries as they can around their neighborhood. Just thinking about the empty parking lot at her Fontana, California, jewelry store makes Ramirez's voice tremble. It's because she had to say goodbye to years of work, she says, and start over.They are making hobbies their jobsJace Quil used to grab her iPad and sketch cartoon-like figures with big, expressive eyes to relax after working as a substitute grade school teacher in Nashville.Then schools closed and officials — unclear whether it would be safe to reopen — decided to keep students at home for the rest of the school year. Her hobby has become her main source of income as she hasn't received government aid. She filed her first tax return earlier this year after graduating from college but it hasn't been processed so she hasn't received one of the federal government's stimulus checks.And the 22-year-old says her unemployment application has been pending for weeks. State agencies have been scrambling to answer calls and websites are constantly crashing.\"It doesn't seem like I'll be able to get anything ever,\" Quil told CNN. More than 26 million Americans have filed initial unemployment claims since March 14, according to the US Department of Labor. The last five weeks have marked the most sudden surge in jobless claims since the agency started tracking the data in 1967.The unemployment figures indicate that roughly 16.2% of the US labor force is suffering from layoffs, furloughs or reduced hours during the coronavirus pandemic.When Quil was in college, she occasionally sold portraits to pay for food, book expenses or just to have some extra cash. For the first time, she's focusing on trying to monetize her drawings, hoping to make enough to cover her bills. Quil is drawing custom digital portraits of real or fictional people, original characters and anthropomorphic animals for up to $35. She's asking friends and anyone she can reach on social media but it's a stressful and mostly intimidating task, she says. \"I feel like I'm never producing enough or advertising enough,\" Quil said. \"And lately the only commissions I've gotten are from friends who want to support me so it makes me feel guilty.\"Like Quil, many workers are using social media and other online platforms to earn money by sharing their skills. Musicians are performing on Facebook Live for tips, chefs are offering one on one classes, and bartenders are picking up yard work.They are taking what they can getThe red and pink roses that Geovanny Gomez used to assemble floral arrangements are gone. When the Los Angeles flower district shut down last month, the life of the 31-year-old florist and dozens of other workers came to a halt. For nearly a month, Gomez tried rationing meals and limiting his spending to a couple of dollars a day to buy bread and fruit for him and his 54-year-old mother who has been battling cancer and other health complications. After learning that he couldn't work, some of his friends and neighbors donated food, but Gomez said he knew he couldn't accept them forever.\"I still have these two hands and feet to work,\" Gomez said.Since last week, Gomez has driven to more than 50 homes and apartments in Los Angeles for Postmates, the on-demand food delivery startup. He was nervous at first about interacting with many strangers but he couldn't pass on a chance to earn money.  He wears gloves and a face mask as he makes his trips and leaves the meals on doorsteps to avoid contact.While it's a source of income, Gomez says, he doesn't see himself driving for Postmates long term. As a florist, Gomez would make up to $20 an hour, especially during Mother's Day or when he sells floral arrangements for social events. He's now earning less than half of his usual income and the tips he receives usually go toward gas.Gomez is not the only one in his family who has left his career behind for now. His uncles, cousins and their wives are also unemployed and have taken jobs ranging from painting homes to sewing face masks. Some of them are undocumented workers, Gomez says, and didn't receive stimulus checks. They are risking their healthWhen the pandemic started affecting travel, it became clear for Andrew Rittler that his job at a valet parking company operating in the Dallas Fort Worth International Airport was at risk. His work hours were cut and, about a week later, he was laid off. The 43-year-old had to find a new job to pay child support and rent and buy his diabetes supplies.His job prospects vanishing, he signed up for Postmates as well as on-demand delivery services Favor and Instacart. He's been wearing face masks and gloves and periodically checking his blood glucose while delivering groceries and takeout orders to people hunkered down at home. Rittler is making deliveries five days a week and is barely making enough to pay for child support and some of his expenses, which include health insurance.One of the biggest challenges besides money, Rittler says, is fighting depression, anger and frustration fueled by the nature of the pandemic. He tries to keep himself busy to forget about those feelings and says that seeing other gig workers at restaurants and grocery stores gives him some hope.\"I think most of America wants to work now. I think everybody is on the same mindset of trying to be productive,\" Rittler said.Like many Americans, Rittler is stuck in limbo and, with no end in sight, he's unsure of how he will emerge on the other side of the pandemic. Still, Rittler is digging for opportunities because by working hard -- one of these days -- he would get back on his feet.\n"
     ]
    }
   ],
   "source": [
    "# Load Packages\n",
    "import sumy\n",
    "from sumy.parsers.plaintext import PlaintextParser\n",
    "from sumy.nlp.tokenizers import Tokenizer\n",
    "from sumy.summarizers.lex_rank import LexRankSummarizer\n",
    "\n",
    "import requests\n",
    "import datetime\n",
    "from bs4 import BeautifulSoup\n",
    "\n",
    "document = ''\n",
    "\n",
    "url = 'https://www.cnn.com/studentnews/article/sitemap-2020-4.html'\n",
    "currentDate = datetime.datetime.now().strftime(\"%Y-%m-%d\")\n",
    "limit = 2\n",
    "keyword = \"coronavirus\"\n",
    "\n",
    "print(\"********************* INPUT **********************\")\n",
    "print(\"URL: \" + url)\n",
    "print(\"Date: \" + currentDate)\n",
    "print(\"No. of Articles: \" + str(limit))\n",
    "print(\"Keywords: \" + keyword)\n",
    "\n",
    "print(\"********************* Extracted OUTPUT Content **********************\")\n",
    "code = requests.get(url)\n",
    "plain = code.text\n",
    "s = BeautifulSoup(plain, \"html.parser\")\n",
    "\n",
    "i=0\n",
    "for span in s.findAll('span', {'class':'date'}):\n",
    "    if span.text == currentDate:\n",
    "        if keyword in span.next_sibling.text:\n",
    "            if i >= limit:\n",
    "                break\n",
    "            i+=1\n",
    "            print(i)\n",
    "            href = span.next_sibling.a.get('href')\n",
    "            article_code = requests.get(href)\n",
    "            article_plain = article_code.text\n",
    "            article_soap = BeautifulSoup(article_plain, \"html.parser\")\n",
    "            #print(article_soap)\n",
    "            for span in article_soap.findAll('div', {'class':'zn-body__paragraph'}):\n",
    "                document += span.text\n",
    "print(document)"
   ]
  },
  {
   "cell_type": "code",
   "execution_count": 11,
   "metadata": {},
   "outputs": [],
   "source": [
    "# For Strings\n",
    "parser = PlaintextParser.from_string(document,Tokenizer(\"english\"))"
   ]
  },
  {
   "cell_type": "code",
   "execution_count": 12,
   "metadata": {},
   "outputs": [],
   "source": [
    "# Using LexRank\n",
    "summarizer = LexRankSummarizer()\n",
    "#Summarize the document with 2 sentences\n",
    "summary = summarizer(parser.document, 100)"
   ]
  },
  {
   "cell_type": "code",
   "execution_count": 13,
   "metadata": {},
   "outputs": [
    {
     "name": "stdout",
     "output_type": "stream",
     "text": [
      "\"This is the biggest negative shock that our economy, I think, has ever seen.\n",
      "We're going to be looking at an unemployment rate that approaches rates that we saw during the Great Depression,\" Hassett told ABC's \"This Week.\"\n",
      "\"During the Great Recession, remember that was a financial crisis around 2008, that we lost 8.7 million jobs and the whole thing.\n",
      "Right now, we're losing that many jobs about every 10 days.\n",
      "\"While some private economists have projected unemployment at that level, it is striking that such a prediction is coming from a key White House economic adviser.For the fifth week in a row, millions of American workers applied for unemployment benefits, seeking financial relief as businesses remained shuttered due to coronavirus.First-time claims for unemployment benefits totaled 4.4 million in the week ending April 18, after factoring in seasonal adjustments, the US Department of Labor said.Without those adjustments -- which economists use to account for seasonal hiring fluctuations -- the raw number was 4.3 million.Hassett painted a dire economic picture for the coming months as a result of Covid-19's impact on the nation's businesses, predicting a negative upcoming report on the country's economic output.\n",
      "\"I think GDP (Gross Domestic Product) growth in the second quarter is going to be negative big number.\n",
      "Wall Street estimates are 20, negative 20, negative 30% at an annual rate.\n",
      "And so that's because we've done something that's really unprecedented, we basically stopped everything,\" Hassett told reporters.On Wednesday, the Commerce Department will release the nation's first quarter GDP which will show the initial economic downturn due to the coronavirus.\n",
      "Those figures will show the start of the economic slide, but the major impact will be seen in the numbers reflecting the second quarter GDP, which will be released in July.Treasury Secretary Steven Mnuchin, meanwhile, painted a more positive outlook.\n",
      "He told reporters Sunday that he believes the economy will begin to bounce back in mid-to-late summer because of the economic activity that he hopes will occur in May and June, as some states begin to reopen.\n",
      "\"This is an unprecedented situation.\n",
      "This is not a financial crisis, this is -- we shut down,\" Mnuchin told reporters at the White House.\n",
      "\"The traditional economic models may work.\n",
      "They may not work.\n",
      "\"\"What I do think is, as we open up the economy in May and June, you will begin to see the economy bounce back in July, August, September,\" he also said.\n",
      "\"And my expectation is that you'll see an increasing rate of growth in those three months.\n",
      "\"They seasoned pound after pound of chicken and thin-cut steak, warmed up dozens of tortillas, and stirred a few liters of salsa in their Bloomington, California, home.\n",
      "It's not anybody's birthday or wedding or a holiday.\n",
      "This is how they are making money to survive a pandemic.\n",
      "Jewelers by trade, they should be polishing gems.\n",
      "Instead they are polishing off meals to go.\n",
      "\"It happened so quickly that one day we were business owners and the next day we were unemployed,\" Luis Ramirez, 49, told CNN.The Ramirez family shut their two Southern California jewelry stores last month when most Americans began staying home and non-essential businesses were ordered to close as the novel coronavirus spread through the United States.Hundreds of thousands of people like the Ramirez family have become gig workers or joined the informal sector after unexpectedly losing their jobs or being forced to close their small businesses.\n",
      "And the job losses are hitting people of color, women and teens particularly hard.\n",
      "After selling and repairing bracelets, necklaces and rings for nearly three decades, Maria Ramirez, 51, is starting from scratch with the help of her five children, some of whom have temporarily returned home from college.\n",
      "They are selling Mexican and Peruvian food for $10 a plate and making as many deliveries as they can around their neighborhood.\n",
      "Just thinking about the empty parking lot at her Fontana, California, jewelry store makes Ramirez's voice tremble.\n",
      "It's because she had to say goodbye to years of work, she says, and start over.They are making hobbies their jobsJace Quil used to grab her iPad and sketch cartoon-like figures with big, expressive eyes to relax after working as a substitute grade school teacher in Nashville.Then schools closed and officials — unclear whether it would be safe to reopen — decided to keep students at home for the rest of the school year.\n",
      "Her hobby has become her main source of income as she hasn't received government aid.\n",
      "She filed her first tax return earlier this year after graduating from college but it hasn't been processed so she hasn't received one of the federal government's stimulus checks.And the 22-year-old says her unemployment application has been pending for weeks.\n",
      "State agencies have been scrambling to answer calls and websites are constantly crashing.\n",
      "\"It doesn't seem like I'll be able to get anything ever,\" Quil told CNN.\n",
      "More than 26 million Americans have filed initial unemployment claims since March 14, according to the US Department of Labor.\n",
      "The last five weeks have marked the most sudden surge in jobless claims since the agency started tracking the data in 1967.The unemployment figures indicate that roughly 16.2% of the US labor force is suffering from layoffs, furloughs or reduced hours during the coronavirus pandemic.When Quil was in college, she occasionally sold portraits to pay for food, book expenses or just to have some extra cash.\n",
      "For the first time, she's focusing on trying to monetize her drawings, hoping to make enough to cover her bills.\n",
      "Quil is drawing custom digital portraits of real or fictional people, original characters and anthropomorphic animals for up to $35.\n",
      "She's asking friends and anyone she can reach on social media but it's a stressful and mostly intimidating task, she says.\n",
      "\"I feel like I'm never producing enough or advertising enough,\" Quil said.\n",
      "\"And lately the only commissions I've gotten are from friends who want to support me so it makes me feel guilty.\n",
      "\"Like Quil, many workers are using social media and other online platforms to earn money by sharing their skills.\n",
      "Musicians are performing on Facebook Live for tips, chefs are offering one on one classes, and bartenders are picking up yard work.They are taking what they can getThe red and pink roses that Geovanny Gomez used to assemble floral arrangements are gone.\n",
      "When the Los Angeles flower district shut down last month, the life of the 31-year-old florist and dozens of other workers came to a halt.\n",
      "For nearly a month, Gomez tried rationing meals and limiting his spending to a couple of dollars a day to buy bread and fruit for him and his 54-year-old mother who has been battling cancer and other health complications.\n",
      "After learning that he couldn't work, some of his friends and neighbors donated food, but Gomez said he knew he couldn't accept them forever.\n",
      "\"I still have these two hands and feet to work,\" Gomez said.Since last week, Gomez has driven to more than 50 homes and apartments in Los Angeles for Postmates, the on-demand food delivery startup.\n",
      "He was nervous at first about interacting with many strangers but he couldn't pass on a chance to earn money.\n",
      "He wears gloves and a face mask as he makes his trips and leaves the meals on doorsteps to avoid contact.While it's a source of income, Gomez says, he doesn't see himself driving for Postmates long term.\n",
      "As a florist, Gomez would make up to $20 an hour, especially during Mother's Day or when he sells floral arrangements for social events.\n",
      "He's now earning less than half of his usual income and the tips he receives usually go toward gas.Gomez is not the only one in his family who has left his career behind for now.\n",
      "His uncles, cousins and their wives are also unemployed and have taken jobs ranging from painting homes to sewing face masks.\n",
      "Some of them are undocumented workers, Gomez says, and didn't receive stimulus checks.\n",
      "They are risking their healthWhen the pandemic started affecting travel, it became clear for Andrew Rittler that his job at a valet parking company operating in the Dallas Fort Worth International Airport was at risk.\n",
      "His work hours were cut and, about a week later, he was laid off.\n",
      "The 43-year-old had to find a new job to pay child support and rent and buy his diabetes supplies.His job prospects vanishing, he signed up for Postmates as well as on-demand delivery services Favor and Instacart.\n",
      "He's been wearing face masks and gloves and periodically checking his blood glucose while delivering groceries and takeout orders to people hunkered down at home.\n",
      "Rittler is making deliveries five days a week and is barely making enough to pay for child support and some of his expenses, which include health insurance.One of the biggest challenges besides money, Rittler says, is fighting depression, anger and frustration fueled by the nature of the pandemic.\n",
      "He tries to keep himself busy to forget about those feelings and says that seeing other gig workers at restaurants and grocery stores gives him some hope.\n",
      "\"I think most of America wants to work now.\n",
      "I think everybody is on the same mindset of trying to be productive,\" Rittler said.Like many Americans, Rittler is stuck in limbo and, with no end in sight, he's unsure of how he will emerge on the other side of the pandemic.\n",
      "Still, Rittler is digging for opportunities because by working hard -- one of these days -- he would get back on his feet.\n"
     ]
    }
   ],
   "source": [
    "for sentence in summary:\n",
    "    print(sentence)"
   ]
  }
 ],
 "metadata": {
  "kernelspec": {
   "display_name": "Python 3",
   "language": "python",
   "name": "python3"
  },
  "language_info": {
   "codemirror_mode": {
    "name": "ipython",
    "version": 3
   },
   "file_extension": ".py",
   "mimetype": "text/x-python",
   "name": "python",
   "nbconvert_exporter": "python",
   "pygments_lexer": "ipython3",
   "version": "3.7.4"
  }
 },
 "nbformat": 4,
 "nbformat_minor": 2
}
