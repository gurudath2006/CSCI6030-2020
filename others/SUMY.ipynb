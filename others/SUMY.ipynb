{
 "cells": [
  {
   "cell_type": "code",
   "execution_count": 1,
   "metadata": {},
   "outputs": [
    {
     "name": "stdout",
     "output_type": "stream",
     "text": [
      "********************* INPUT **********************\n",
      "URL: https://www.cnn.com/studentnews/article/sitemap-2020-4.html\n",
      "Date: 2020-04-27\n",
      "No. of Articles: 2\n",
      "Keywords: coronavirus\n",
      "********************* Extracted OUTPUT Content **********************\n",
      "1\n",
      "2\n",
      "\"In the end, my campaign was rewarded for our persistence and patience. But victory is bittersweet. It was unacceptable to hold an election under circumstances in which people were forced to choose between their safety and voting. It disenfranchised countless people and raised serious concerns for the future of our democracy,\" Justice-elect Jill Karofsky wrote in an op-ed in The New York Times. \"Now, over two weeks later, we have an uptick in Covid-19 cases, especially in dense urban centers like Milwaukee and Waukesha, where few polling places were open and citizens were forced to stand in long lines to cast a ballot,\" wrote Karofsky, who previously served as a county judge. There are currently more than 5,900 cases in Wisconsin and more than 100 deaths caused by the virus, according to data from Johns Hopkins University. At the time of the election on April 7, there were more than 2,500 cases and more than 90 deaths in the state, according to the university. The state health department said at least 36 people who said they voted in-person or worked the polls for the primary election had tested positive for coronavirus as of Monday.However, last week, Wisconsin Department of Health Services Deputy Secretary Julie Willems Van Dijk noted that several of those people \"reported other possible exposures as well.\"The election had been a point of contention between the Democrats and Republicans, with the GOP insisting it go on even as public health officials were urging Americans to stay home to avoid contracting the deadly virus. Karofsky's win was an embarrassment for state and national Republicans, who had blocked Democratic Gov. Tony Evers' bid to postpone the election or have it conducted entirely by mail and had fought in court against rules that would have made it easier to cast absentee ballots. Karofsky wrote that the US Supreme Court, which ruled just before the election that ballots must be postmarked by election day on April 7, \"erred\" in its decision, which she said \"they didn't have the time to think through and that caused tremendous confusion in my state.\" \"I find it unconscionable that Wisconsin voters were forced to choose between their safety and having their voices heard in our democracy. The right to vote is fundamental to the American creed,\" she wrote. \"Courts making partisan decisions, sending people out to vote in the middle of a global pandemic, is exactly what's wrong with a judiciary that has become too political, and I think a deliberate attempt to suppress the vote in Wisconsin.\" The newly elected justice also blasted a decision by the state's Supreme Court to halt Evers' order postponing the election until June, saying that both that ruling and the US Supreme Court's ruling \"are seen as being along partisan lines, with allies of Republicans refusing to delay the election.\" Karofsky also noted that \"every member of the Wisconsin Supreme Court had already voted early. They weren't putting themselves at risk.\"Karofsky's victory reduces the conservative majority on Wisconsin's high court to 4-3. It could also position her to cast the deciding vote in a closely watched case over a GOP effort to purge the state's voter rolls of more than 230,000 people who could have moved.Malone, who sang and played guitar, was joined by three socially distanced band members, drummer Travis Barker of Blink 182, bassist Brian Lee and guitarist Nick Mack. The four performed from different rooms in Post's house in Salt Lake City, Utah. The makeshift band performed 15 songs during an 80-minute set on Friday, including such Nirvana classics as \"Come As You Are,\" \"About a Girl,\" and \"Heart-Shaped Box.\"\"Thank you to the gentlemen who wrote these beautiful songs,\" Malone said, before kicking off the concert with \"Francis Farmer Will Have Her Revenge on Seattle,\" a track from Nirvana's last studio album, \"In Utero.\"Courtney Love, widow of Nirvana singer Kurt Cobain, congratulated the band for raising thousands of dollars to help with the fight against the coronavirus pandemic.\"Goosebumps ... Go have a margarita Post Malone. Nothing but love from here,\" Love said on Instagram after the livestream.Nirvana bassist Krist Novoselić shared his approval on Twitter, applauding Malone and Barker, and mentioning how proud he was of them.\"I don't think these fellows can play any better. They are on fire!!!!\" Novoselić tweeted during the event, adding that he was \"holding emotions back the whole show.\"The money raised from the concert will help \"ensure patients get the care they need, frontline workers get essential supplies, and accelerate efforts to develop vaccines, tests, and treatments,\" Post Malone said on the YouTube video.Google matched $2 for each $1 donation. The event raised $500,000, including Google's match, Lauren Resnick, a spokesperson for YouTube Music, told CNN. Over $4.3 million has been raised in total for the United Nations Foundation's Covid-19 Solidarity Response Fund for The World Health Organization.Correction: An earlier version of this story and headline included an incorrect amount for donations raised by Post Malone's Nirvana tribute concert. The concert raised $500,000.\n"
     ]
    }
   ],
   "source": [
    "# Load Packages\n",
    "import sumy\n",
    "from sumy.parsers.plaintext import PlaintextParser\n",
    "from sumy.nlp.tokenizers import Tokenizer\n",
    "from sumy.summarizers.lex_rank import LexRankSummarizer\n",
    "\n",
    "import requests\n",
    "import datetime\n",
    "from bs4 import BeautifulSoup\n",
    "\n",
    "document = ''\n",
    "\n",
    "url = 'https://www.cnn.com/studentnews/article/sitemap-2020-4.html'\n",
    "currentDate = datetime.datetime.now().strftime(\"%Y-%m-%d\")\n",
    "limit = 2\n",
    "keyword = \"coronavirus\"\n",
    "\n",
    "print(\"********************* INPUT **********************\")\n",
    "print(\"URL: \" + url)\n",
    "print(\"Date: \" + currentDate)\n",
    "print(\"No. of Articles: \" + str(limit))\n",
    "print(\"Keywords: \" + keyword)\n",
    "\n",
    "print(\"********************* Extracted OUTPUT Content **********************\")\n",
    "code = requests.get(url)\n",
    "plain = code.text\n",
    "s = BeautifulSoup(plain, \"html.parser\")\n",
    "\n",
    "i=0\n",
    "for span in s.findAll('span', {'class':'date'}):\n",
    "    if span.text == currentDate:\n",
    "        if keyword in span.next_sibling.text:\n",
    "            if i >= limit:\n",
    "                break\n",
    "            i+=1\n",
    "            print(i)\n",
    "            href = span.next_sibling.a.get('href')\n",
    "            article_code = requests.get(href)\n",
    "            article_plain = article_code.text\n",
    "            article_soap = BeautifulSoup(article_plain, \"html.parser\")\n",
    "            #print(article_soap)\n",
    "            for span in article_soap.findAll('div', {'class':'zn-body__paragraph'}):\n",
    "                document += span.text\n",
    "print(document)"
   ]
  },
  {
   "cell_type": "code",
   "execution_count": 2,
   "metadata": {},
   "outputs": [],
   "source": [
    "# For Strings\n",
    "parser = PlaintextParser.from_string(document,Tokenizer(\"english\"))"
   ]
  },
  {
   "cell_type": "code",
   "execution_count": 3,
   "metadata": {},
   "outputs": [],
   "source": [
    "# Using LexRank\n",
    "from sumy.summarizers.lex_rank import LexRankSummarizer\n",
    "summarizer = LexRankSummarizer()\n",
    "#Summarize the document with 6 sentences\n",
    "summary = summarizer(parser.document, 6)"
   ]
  },
  {
   "cell_type": "code",
   "execution_count": 4,
   "metadata": {},
   "outputs": [
    {
     "name": "stdout",
     "output_type": "stream",
     "text": [
      "It was unacceptable to hold an election under circumstances in which people were forced to choose between their safety and voting.\n",
      "It disenfranchised countless people and raised serious concerns for the future of our democracy,\" Justice-elect Jill Karofsky wrote in an op-ed in The New York Times.\n",
      "At the time of the election on April 7, there were more than 2,500 cases and more than 90 deaths in the state, according to the university.\n",
      "Karofsky wrote that the US Supreme Court, which ruled just before the election that ballots must be postmarked by election day on April 7, \"erred\" in its decision, which she said \"they didn't have the time to think through and that caused tremendous confusion in my state.\"\n",
      "Karofsky also noted that \"every member of the Wisconsin Supreme Court had already voted early.\n",
      "The concert raised $500,000.\n"
     ]
    }
   ],
   "source": [
    "for sentence in summary:\n",
    "    print(sentence)"
   ]
  },
  {
   "cell_type": "code",
   "execution_count": 5,
   "metadata": {},
   "outputs": [],
   "source": [
    "from sumy.summarizers.luhn import LuhnSummarizer\n",
    "summarizer_luhn = LuhnSummarizer()\n",
    "summary_1 =summarizer_luhn(parser.document,2)"
   ]
  },
  {
   "cell_type": "code",
   "execution_count": 6,
   "metadata": {},
   "outputs": [
    {
     "name": "stdout",
     "output_type": "stream",
     "text": [
      "At the time of the election on April 7, there were more than 2,500 cases and more than 90 deaths in the state, according to the university.\n",
      "Karofsky wrote that the US Supreme Court, which ruled just before the election that ballots must be postmarked by election day on April 7, \"erred\" in its decision, which she said \"they didn't have the time to think through and that caused tremendous confusion in my state.\"\n"
     ]
    }
   ],
   "source": [
    "for sentence in summary_1:\n",
    "    print(sentence)"
   ]
  },
  {
   "cell_type": "code",
   "execution_count": 7,
   "metadata": {},
   "outputs": [],
   "source": [
    "from sumy.summarizers.lsa import LsaSummarizer\n",
    "summarizer_lsa = LsaSummarizer()\n",
    "summary_2 =summarizer_lsa(parser.document,2)"
   ]
  },
  {
   "cell_type": "code",
   "execution_count": 8,
   "metadata": {},
   "outputs": [
    {
     "name": "stdout",
     "output_type": "stream",
     "text": [
      "Karofsky's win was an embarrassment for state and national Republicans, who had blocked Democratic Gov.\n",
      "It could also position her to cast the deciding vote in a closely watched case over a GOP effort to purge the state's voter rolls of more than 230,000 people who could have moved.Malone, who sang and played guitar, was joined by three socially distanced band members, drummer Travis Barker of Blink 182, bassist Brian Lee and guitarist Nick Mack.\n"
     ]
    }
   ],
   "source": [
    "for sentence in summary_2:\n",
    "    print(sentence)"
   ]
  },
  {
   "cell_type": "code",
   "execution_count": null,
   "metadata": {},
   "outputs": [],
   "source": []
  }
 ],
 "metadata": {
  "kernelspec": {
   "display_name": "Python 3",
   "language": "python",
   "name": "python3"
  },
  "language_info": {
   "codemirror_mode": {
    "name": "ipython",
    "version": 3
   },
   "file_extension": ".py",
   "mimetype": "text/x-python",
   "name": "python",
   "nbconvert_exporter": "python",
   "pygments_lexer": "ipython3",
   "version": "3.7.4"
  }
 },
 "nbformat": 4,
 "nbformat_minor": 2
}
